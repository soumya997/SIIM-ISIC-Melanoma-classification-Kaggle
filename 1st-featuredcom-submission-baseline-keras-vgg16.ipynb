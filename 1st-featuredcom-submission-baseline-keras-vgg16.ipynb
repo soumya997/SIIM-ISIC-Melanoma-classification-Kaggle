{
 "cells": [
  {
   "cell_type": "markdown",
   "execution_count": null,
   "metadata": {},
   "source": [
    "<center><img src=\"https://i.imgur.com/gE3PMKU.jpg\" width=\"500px\"></center>\n"
   ]
  },
  {
   "cell_type": "code",
   "execution_count": 1,
   "metadata": {},
   "outputs": [
    {
     "name": "stdout",
     "output_type": "stream",
     "text": [
      "Requirement already satisfied: imbalanced-learn in /opt/conda/lib/python3.7/site-packages (0.6.2)\r\n",
      "Requirement already satisfied: scipy>=0.17 in /opt/conda/lib/python3.7/site-packages (from imbalanced-learn) (1.4.1)\r\n",
      "Requirement already satisfied: numpy>=1.11 in /opt/conda/lib/python3.7/site-packages (from imbalanced-learn) (1.18.1)\r\n",
      "Requirement already satisfied: scikit-learn>=0.22 in /opt/conda/lib/python3.7/site-packages (from imbalanced-learn) (0.22.2.post1)\r\n",
      "Requirement already satisfied: joblib>=0.11 in /opt/conda/lib/python3.7/site-packages (from imbalanced-learn) (0.14.1)\r\n",
      "\u001b[33mWARNING: You are using pip version 20.1; however, version 20.1.1 is available.\r\n",
      "You should consider upgrading via the '/opt/conda/bin/python3.7 -m pip install --upgrade pip' command.\u001b[0m\r\n"
     ]
    }
   ],
   "source": [
    "!pip install imbalanced-learn"
   ]
  },
  {
   "cell_type": "code",
   "execution_count": 2,
   "metadata": {
    "_cell_guid": "79c7e3d0-c299-4dcb-8224-4455121ee9b0",
    "_uuid": "d629ff2d2480ee46fbb7e2d37f6b5fab8052498a"
   },
   "outputs": [
    {
     "name": "stderr",
     "output_type": "stream",
     "text": [
      "Using TensorFlow backend.\n"
     ]
    }
   ],
   "source": [
    "import warnings\n",
    "warnings.filterwarnings('ignore')\n",
    "import os\n",
    "from tqdm import tqdm\n",
    "import pandas as pd\n",
    "import cv2\n",
    "import numpy as np\n",
    "from tensorflow import keras\n",
    "import matplotlib.pyplot as plt\n",
    "import tensorflow as tf\n",
    "from keras.utils.data_utils import Sequence\n",
    "from imblearn.over_sampling import RandomOverSampler\n",
    "from imblearn.keras import balanced_batch_generator\n",
    "from keras.preprocessing.image import ImageDataGenerator\n",
    "%matplotlib inline"
   ]
  },
  {
   "cell_type": "code",
   "execution_count": 3,
   "metadata": {},
   "outputs": [
    {
     "data": {
      "text/html": [
       "<div>\n",
       "<style scoped>\n",
       "    .dataframe tbody tr th:only-of-type {\n",
       "        vertical-align: middle;\n",
       "    }\n",
       "\n",
       "    .dataframe tbody tr th {\n",
       "        vertical-align: top;\n",
       "    }\n",
       "\n",
       "    .dataframe thead th {\n",
       "        text-align: right;\n",
       "    }\n",
       "</style>\n",
       "<table border=\"1\" class=\"dataframe\">\n",
       "  <thead>\n",
       "    <tr style=\"text-align: right;\">\n",
       "      <th></th>\n",
       "      <th>image_name</th>\n",
       "      <th>patient_id</th>\n",
       "      <th>sex</th>\n",
       "      <th>age_approx</th>\n",
       "      <th>anatom_site_general_challenge</th>\n",
       "      <th>diagnosis</th>\n",
       "      <th>benign_malignant</th>\n",
       "      <th>target</th>\n",
       "    </tr>\n",
       "  </thead>\n",
       "  <tbody>\n",
       "    <tr>\n",
       "      <th>0</th>\n",
       "      <td>ISIC_2637011</td>\n",
       "      <td>IP_7279968</td>\n",
       "      <td>male</td>\n",
       "      <td>45.0</td>\n",
       "      <td>head/neck</td>\n",
       "      <td>unknown</td>\n",
       "      <td>benign</td>\n",
       "      <td>0</td>\n",
       "    </tr>\n",
       "    <tr>\n",
       "      <th>1</th>\n",
       "      <td>ISIC_0015719</td>\n",
       "      <td>IP_3075186</td>\n",
       "      <td>female</td>\n",
       "      <td>45.0</td>\n",
       "      <td>upper extremity</td>\n",
       "      <td>unknown</td>\n",
       "      <td>benign</td>\n",
       "      <td>0</td>\n",
       "    </tr>\n",
       "    <tr>\n",
       "      <th>2</th>\n",
       "      <td>ISIC_0052212</td>\n",
       "      <td>IP_2842074</td>\n",
       "      <td>female</td>\n",
       "      <td>50.0</td>\n",
       "      <td>lower extremity</td>\n",
       "      <td>nevus</td>\n",
       "      <td>benign</td>\n",
       "      <td>0</td>\n",
       "    </tr>\n",
       "    <tr>\n",
       "      <th>3</th>\n",
       "      <td>ISIC_0068279</td>\n",
       "      <td>IP_6890425</td>\n",
       "      <td>female</td>\n",
       "      <td>45.0</td>\n",
       "      <td>head/neck</td>\n",
       "      <td>unknown</td>\n",
       "      <td>benign</td>\n",
       "      <td>0</td>\n",
       "    </tr>\n",
       "    <tr>\n",
       "      <th>4</th>\n",
       "      <td>ISIC_0074268</td>\n",
       "      <td>IP_8723313</td>\n",
       "      <td>female</td>\n",
       "      <td>55.0</td>\n",
       "      <td>upper extremity</td>\n",
       "      <td>unknown</td>\n",
       "      <td>benign</td>\n",
       "      <td>0</td>\n",
       "    </tr>\n",
       "  </tbody>\n",
       "</table>\n",
       "</div>"
      ],
      "text/plain": [
       "     image_name  patient_id     sex  age_approx anatom_site_general_challenge  \\\n",
       "0  ISIC_2637011  IP_7279968    male        45.0                     head/neck   \n",
       "1  ISIC_0015719  IP_3075186  female        45.0               upper extremity   \n",
       "2  ISIC_0052212  IP_2842074  female        50.0               lower extremity   \n",
       "3  ISIC_0068279  IP_6890425  female        45.0                     head/neck   \n",
       "4  ISIC_0074268  IP_8723313  female        55.0               upper extremity   \n",
       "\n",
       "  diagnosis benign_malignant  target  \n",
       "0   unknown           benign       0  \n",
       "1   unknown           benign       0  \n",
       "2     nevus           benign       0  \n",
       "3   unknown           benign       0  \n",
       "4   unknown           benign       0  "
      ]
     },
     "execution_count": 3,
     "metadata": {},
     "output_type": "execute_result"
    }
   ],
   "source": [
    "train = pd.read_csv('../input/siim-isic-melanoma-classification/train.csv')\n",
    "train.head()"
   ]
  },
  {
   "cell_type": "code",
   "execution_count": 4,
   "metadata": {},
   "outputs": [
    {
     "data": {
      "text/html": [
       "<div>\n",
       "<style scoped>\n",
       "    .dataframe tbody tr th:only-of-type {\n",
       "        vertical-align: middle;\n",
       "    }\n",
       "\n",
       "    .dataframe tbody tr th {\n",
       "        vertical-align: top;\n",
       "    }\n",
       "\n",
       "    .dataframe thead th {\n",
       "        text-align: right;\n",
       "    }\n",
       "</style>\n",
       "<table border=\"1\" class=\"dataframe\">\n",
       "  <thead>\n",
       "    <tr style=\"text-align: right;\">\n",
       "      <th></th>\n",
       "      <th>image_name</th>\n",
       "      <th>patient_id</th>\n",
       "      <th>sex</th>\n",
       "      <th>age_approx</th>\n",
       "      <th>anatom_site_general_challenge</th>\n",
       "    </tr>\n",
       "  </thead>\n",
       "  <tbody>\n",
       "    <tr>\n",
       "      <th>0</th>\n",
       "      <td>ISIC_0052060</td>\n",
       "      <td>IP_3579794</td>\n",
       "      <td>male</td>\n",
       "      <td>70.0</td>\n",
       "      <td>NaN</td>\n",
       "    </tr>\n",
       "    <tr>\n",
       "      <th>1</th>\n",
       "      <td>ISIC_0052349</td>\n",
       "      <td>IP_7782715</td>\n",
       "      <td>male</td>\n",
       "      <td>40.0</td>\n",
       "      <td>lower extremity</td>\n",
       "    </tr>\n",
       "    <tr>\n",
       "      <th>2</th>\n",
       "      <td>ISIC_0058510</td>\n",
       "      <td>IP_7960270</td>\n",
       "      <td>female</td>\n",
       "      <td>55.0</td>\n",
       "      <td>torso</td>\n",
       "    </tr>\n",
       "    <tr>\n",
       "      <th>3</th>\n",
       "      <td>ISIC_0073313</td>\n",
       "      <td>IP_6375035</td>\n",
       "      <td>female</td>\n",
       "      <td>50.0</td>\n",
       "      <td>torso</td>\n",
       "    </tr>\n",
       "    <tr>\n",
       "      <th>4</th>\n",
       "      <td>ISIC_0073502</td>\n",
       "      <td>IP_0589375</td>\n",
       "      <td>female</td>\n",
       "      <td>45.0</td>\n",
       "      <td>lower extremity</td>\n",
       "    </tr>\n",
       "  </tbody>\n",
       "</table>\n",
       "</div>"
      ],
      "text/plain": [
       "     image_name  patient_id     sex  age_approx anatom_site_general_challenge\n",
       "0  ISIC_0052060  IP_3579794    male        70.0                           NaN\n",
       "1  ISIC_0052349  IP_7782715    male        40.0               lower extremity\n",
       "2  ISIC_0058510  IP_7960270  female        55.0                         torso\n",
       "3  ISIC_0073313  IP_6375035  female        50.0                         torso\n",
       "4  ISIC_0073502  IP_0589375  female        45.0               lower extremity"
      ]
     },
     "execution_count": 4,
     "metadata": {},
     "output_type": "execute_result"
    }
   ],
   "source": [
    "test = pd.read_csv('../input/siim-isic-melanoma-classification/test.csv')\n",
    "test.head()"
   ]
  },
  {
   "cell_type": "markdown",
   "execution_count": null,
   "metadata": {},
   "source": [
    "# Test Images:"
   ]
  },
  {
   "cell_type": "markdown",
   "execution_count": null,
   "metadata": {},
   "source": [
    "## Malignent:"
   ]
  },
  {
   "cell_type": "code",
   "execution_count": 5,
   "metadata": {},
   "outputs": [],
   "source": [
    "# malignant = test[test['benign_malignant']=='malignant']\n",
    "# malignant_vals = malignant['image_name'].values\n",
    "# type(malignant_vals)\n",
    "# len(malignant_vals)"
   ]
  },
  {
   "cell_type": "code",
   "execution_count": null,
   "metadata": {},
   "outputs": [],
   "source": []
  },
  {
   "cell_type": "code",
   "execution_count": null,
   "metadata": {},
   "outputs": [],
   "source": []
  },
  {
   "cell_type": "code",
   "execution_count": null,
   "metadata": {},
   "outputs": [],
   "source": []
  },
  {
   "cell_type": "code",
   "execution_count": null,
   "metadata": {},
   "outputs": [],
   "source": []
  },
  {
   "cell_type": "markdown",
   "execution_count": null,
   "metadata": {},
   "source": [
    "## Malignent :"
   ]
  },
  {
   "cell_type": "code",
   "execution_count": 6,
   "metadata": {},
   "outputs": [
    {
     "data": {
      "text/plain": [
       "584"
      ]
     },
     "execution_count": 6,
     "metadata": {},
     "output_type": "execute_result"
    }
   ],
   "source": [
    "malignant = train[train['benign_malignant']=='malignant']\n",
    "malignant_vals = malignant['image_name'].values\n",
    "type(malignant_vals)\n",
    "len(malignant_vals)"
   ]
  },
  {
   "cell_type": "code",
   "execution_count": 7,
   "metadata": {},
   "outputs": [],
   "source": [
    "malignant_labels = malignant['target'].values\n",
    "malignant_labels_rand = [np.random.choice(malignant_labels) for i in range(584)]"
   ]
  },
  {
   "cell_type": "code",
   "execution_count": 8,
   "metadata": {},
   "outputs": [
    {
     "data": {
      "text/plain": [
       "584"
      ]
     },
     "execution_count": 8,
     "metadata": {},
     "output_type": "execute_result"
    }
   ],
   "source": [
    "malignant_list = list(malignant_vals)\n",
    "type(malignant_list)\n",
    "len(malignant_list)\n",
    "# malignant_list\n",
    "#malignant_rand = [np.random.choice(malignant_vals + '.jpg') for i in range(584)]"
   ]
  },
  {
   "cell_type": "code",
   "execution_count": null,
   "metadata": {},
   "outputs": [],
   "source": []
  },
  {
   "cell_type": "code",
   "execution_count": 9,
   "metadata": {},
   "outputs": [],
   "source": [
    "# DIR = '../input/siim-isic-melanoma-classification/jpeg/train'\n",
    "# benign_images = []\n",
    "\n",
    "# for i in malignant_rand:\n",
    "#     image1 = plt.imread(os.path.join(DIR,i))\n",
    "#     image1 = cv2.resize(image1,(224,224))\n",
    "#     benign_images.append(image1)\n",
    "# #     np.append(k_be,image1)\n"
   ]
  },
  {
   "cell_type": "code",
   "execution_count": null,
   "metadata": {},
   "outputs": [],
   "source": []
  },
  {
   "cell_type": "code",
   "execution_count": null,
   "metadata": {},
   "outputs": [],
   "source": []
  },
  {
   "cell_type": "code",
   "execution_count": null,
   "metadata": {},
   "outputs": [],
   "source": []
  },
  {
   "cell_type": "code",
   "execution_count": null,
   "metadata": {},
   "outputs": [],
   "source": []
  },
  {
   "cell_type": "code",
   "execution_count": null,
   "metadata": {},
   "outputs": [],
   "source": []
  },
  {
   "cell_type": "markdown",
   "execution_count": null,
   "metadata": {},
   "source": [
    "## Benign :"
   ]
  },
  {
   "cell_type": "code",
   "execution_count": 10,
   "metadata": {},
   "outputs": [
    {
     "data": {
      "text/plain": [
       "32542"
      ]
     },
     "execution_count": 10,
     "metadata": {},
     "output_type": "execute_result"
    }
   ],
   "source": [
    "benign = train[train['benign_malignant']=='benign']\n",
    "benign_vals = benign['image_name'].values\n",
    "type(benign_vals)\n",
    "len(benign_vals)"
   ]
  },
  {
   "cell_type": "code",
   "execution_count": 11,
   "metadata": {},
   "outputs": [],
   "source": [
    "benign_labels = benign['target'].values\n",
    "benign_labels_rand = [np.random.choice(benign_labels) for i in range(584)]"
   ]
  },
  {
   "cell_type": "code",
   "execution_count": 12,
   "metadata": {},
   "outputs": [
    {
     "data": {
      "text/plain": [
       "list"
      ]
     },
     "execution_count": 12,
     "metadata": {},
     "output_type": "execute_result"
    }
   ],
   "source": [
    "benign_list = list(benign_vals)\n",
    "type(benign_list)\n",
    "# benign_rand = [np.random.choice(benign_vals + '.jpg') for i in range(584)]"
   ]
  },
  {
   "cell_type": "code",
   "execution_count": 13,
   "metadata": {},
   "outputs": [
    {
     "data": {
      "text/plain": [
       "584"
      ]
     },
     "execution_count": 13,
     "metadata": {},
     "output_type": "execute_result"
    }
   ],
   "source": [
    "benign_list_1 = benign_list[0:584]\n",
    "len(benign_list_1)"
   ]
  },
  {
   "cell_type": "markdown",
   "execution_count": null,
   "metadata": {},
   "source": [
    "## COMBINING MAL & BNIN `IMAGE_NAME` LISTS:"
   ]
  },
  {
   "cell_type": "code",
   "execution_count": 14,
   "metadata": {},
   "outputs": [
    {
     "name": "stdout",
     "output_type": "stream",
     "text": [
      "1168\n",
      "1168\n"
     ]
    }
   ],
   "source": [
    "mal_bin_cmbo_img_name_list = malignant_list + benign_list_1\n",
    "mal_bin_cmbo_label_list = malignant_labels_rand + benign_labels_rand\n",
    "print(len(mal_bin_cmbo_label_list))\n",
    "print(len(mal_bin_cmbo_img_name_list))"
   ]
  },
  {
   "cell_type": "markdown",
   "execution_count": null,
   "metadata": {},
   "source": [
    "## TRAIN & VALIDATION SPLIT"
   ]
  },
  {
   "cell_type": "code",
   "execution_count": 15,
   "metadata": {},
   "outputs": [],
   "source": [
    "# SEED = 42\n",
    "# from sklearn.model_selection import train_test_split\n",
    "# x_train,x_val,y_train,y_val = train_test_split(mal_bin_cmbo_img_name_list,mal_bin_cmbo_label_list,test_size = 0.2,random_state = SEED)"
   ]
  },
  {
   "cell_type": "markdown",
   "execution_count": null,
   "metadata": {},
   "source": [
    "## READING THE COMBINED IMAGES AND STORING INTO A LIST"
   ]
  },
  {
   "cell_type": "code",
   "execution_count": 16,
   "metadata": {},
   "outputs": [
    {
     "data": {
      "text/plain": [
       "104"
      ]
     },
     "execution_count": 16,
     "metadata": {},
     "output_type": "execute_result"
    }
   ],
   "source": [
    "import gc\n",
    "gc.collect()"
   ]
  },
  {
   "cell_type": "code",
   "execution_count": 17,
   "metadata": {},
   "outputs": [
    {
     "name": "stderr",
     "output_type": "stream",
     "text": [
      "100%|██████████| 1168/1168 [08:26<00:00,  2.31it/s]\n"
     ]
    }
   ],
   "source": [
    "DIR = '../input/siim-isic-melanoma-classification/jpeg/train'\n",
    "img_data = []\n",
    "jpeg = '.jpg'\n",
    "img_size = 224\n",
    "\n",
    "for i in tqdm(mal_bin_cmbo_img_name_list):\n",
    "    img = plt.imread(os.path.join(DIR,i)+jpeg)\n",
    "    img = cv2.resize(img,(img_size,img_size))\n",
    "    img_data.append(img)"
   ]
  },
  {
   "cell_type": "code",
   "execution_count": 18,
   "metadata": {},
   "outputs": [
    {
     "name": "stdout",
     "output_type": "stream",
     "text": [
      "(1168, 224, 224, 3)\n"
     ]
    }
   ],
   "source": [
    "train_imgs = np.asarray(img_data)\n",
    "print(train_imgs.shape)\n",
    "train_labels =  np.asarray(mal_bin_cmbo_label_list)\n",
    "# test_imgs = np.asarray(test_imgs)\n",
    "# test_labels =  np.asarray(test_labels)"
   ]
  },
  {
   "cell_type": "code",
   "execution_count": 19,
   "metadata": {},
   "outputs": [],
   "source": [
    "BATCH_SIZE = 64\n",
    "SEED = 42\n",
    "EPOCHS = 100\n",
    "x, y, z = 224, 224, 3\n",
    "inputShape = (x, y, z)\n",
    "NUM_CLASSES = 1"
   ]
  },
  {
   "cell_type": "code",
   "execution_count": 20,
   "metadata": {},
   "outputs": [],
   "source": [
    "from sklearn.model_selection import train_test_split\n",
    "X_train, X_val, Y_train, Y_val = train_test_split(\n",
    "    train_imgs, \n",
    "    train_labels,\n",
    "    test_size = 0.3, \n",
    "    random_state = SEED\n",
    ")"
   ]
  },
  {
   "cell_type": "code",
   "execution_count": 21,
   "metadata": {},
   "outputs": [
    {
     "data": {
      "text/plain": [
       "numpy.ndarray"
      ]
     },
     "execution_count": 21,
     "metadata": {},
     "output_type": "execute_result"
    }
   ],
   "source": [
    "type(X_val)"
   ]
  },
  {
   "cell_type": "code",
   "execution_count": 22,
   "metadata": {},
   "outputs": [],
   "source": [
    "train_datagen = ImageDataGenerator( rescale = 1./255,\n",
    "                                    rotation_range=90,\n",
    "                                    width_shift_range=0.15,\n",
    "                                    height_shift_range=0.15,\n",
    "                                    horizontal_flip = True,\n",
    "                                    vertical_flip = True,\n",
    "                                    zoom_range=(0.9,1),\n",
    "                                    fill_mode= 'nearest',\n",
    "                                    brightness_range=(0.8, 1.2),\n",
    "                                  )\n",
    "\n",
    "train_generator = train_datagen.flow(X_train, Y_train, batch_size = BATCH_SIZE)\n",
    "val_generator = train_datagen.flow(X_val, Y_val, batch_size = BATCH_SIZE, shuffle = True)"
   ]
  },
  {
   "cell_type": "markdown",
   "execution_count": null,
   "metadata": {},
   "source": [
    "## Model Building:"
   ]
  },
  {
   "cell_type": "code",
   "execution_count": 23,
   "metadata": {},
   "outputs": [],
   "source": [
    "import matplotlib.pyplot as plt\n",
    "from glob import glob\n",
    "from skimage.io import imread\n",
    "from skimage.color import rgb2gray\n",
    "from sklearn.model_selection import train_test_split\n",
    "import keras\n",
    "import numpy as np\n",
    "\n",
    "from keras.models import Sequential\n",
    "from keras.layers import (  Dense,\n",
    "                            Flatten,\n",
    "                            LeakyReLU\n",
    "                         )\n",
    "from keras.applications import  VGG19 \n",
    "from keras.optimizers import Adam\n",
    "from keras.utils.np_utils import to_categorical\n",
    "from skimage.transform import resize\n",
    "from tqdm import tqdm\n",
    "from keras.preprocessing.image import ImageDataGenerator"
   ]
  },
  {
   "cell_type": "code",
   "execution_count": 24,
   "metadata": {},
   "outputs": [],
   "source": [
    "from keras.callbacks import ModelCheckpoint\n",
    "filepath = \"../working/saved_models-improvement-{epoch:02d}-{val_acc:.2f}.hdf5\"\n",
    "checkpoint = ModelCheckpoint(filepath,monitor = 'val_acc',verbose = 1,save_best_only = True,mode = 'max')\n",
    "callbacks_list = [checkpoint]"
   ]
  },
  {
   "cell_type": "code",
   "execution_count": 25,
   "metadata": {},
   "outputs": [
    {
     "name": "stdout",
     "output_type": "stream",
     "text": [
      "Downloading data from https://github.com/fchollet/deep-learning-models/releases/download/v0.1/vgg19_weights_tf_dim_ordering_tf_kernels_notop.h5\n",
      "80142336/80134624 [==============================] - 1s 0us/step\n",
      "Epoch 1/100\n",
      "12/12 [==============================] - 19s 2s/step - loss: 0.7505 - acc: 0.5166 - val_loss: 0.6676 - val_acc: 0.5969\n",
      "\n",
      "Epoch 00001: val_acc improved from -inf to 0.59688, saving model to ../working/saved_models-improvement-01-0.60.hdf5\n",
      "Epoch 2/100\n",
      "12/12 [==============================] - 15s 1s/step - loss: 0.6520 - acc: 0.6029 - val_loss: 0.6138 - val_acc: 0.6446\n",
      "\n",
      "Epoch 00002: val_acc improved from 0.59688 to 0.64460, saving model to ../working/saved_models-improvement-02-0.64.hdf5\n",
      "Epoch 3/100\n",
      "12/12 [==============================] - 16s 1s/step - loss: 0.5965 - acc: 0.6786 - val_loss: 0.5710 - val_acc: 0.5958\n",
      "\n",
      "Epoch 00003: val_acc did not improve from 0.64460\n",
      "Epoch 4/100\n",
      "12/12 [==============================] - 14s 1s/step - loss: 0.5969 - acc: 0.6641 - val_loss: 0.6326 - val_acc: 0.6376\n",
      "\n",
      "Epoch 00004: val_acc did not improve from 0.64460\n",
      "Epoch 5/100\n",
      "12/12 [==============================] - 13s 1s/step - loss: 0.5846 - acc: 0.7046 - val_loss: 0.6534 - val_acc: 0.6307\n",
      "\n",
      "Epoch 00005: val_acc did not improve from 0.64460\n",
      "Epoch 6/100\n",
      "12/12 [==============================] - 13s 1s/step - loss: 0.5720 - acc: 0.7025 - val_loss: 0.7638 - val_acc: 0.6307\n",
      "\n",
      "Epoch 00006: val_acc did not improve from 0.64460\n",
      "Epoch 7/100\n",
      "12/12 [==============================] - 15s 1s/step - loss: 0.5493 - acc: 0.7240 - val_loss: 0.6218 - val_acc: 0.6844\n",
      "\n",
      "Epoch 00007: val_acc improved from 0.64460 to 0.68437, saving model to ../working/saved_models-improvement-07-0.68.hdf5\n",
      "Epoch 8/100\n",
      "12/12 [==============================] - 17s 1s/step - loss: 0.5742 - acc: 0.7052 - val_loss: 0.5298 - val_acc: 0.7143\n",
      "\n",
      "Epoch 00008: val_acc improved from 0.68437 to 0.71429, saving model to ../working/saved_models-improvement-08-0.71.hdf5\n",
      "Epoch 9/100\n",
      "12/12 [==============================] - 13s 1s/step - loss: 0.5718 - acc: 0.6951 - val_loss: 0.5972 - val_acc: 0.6794\n",
      "\n",
      "Epoch 00009: val_acc did not improve from 0.71429\n",
      "Epoch 10/100\n",
      "12/12 [==============================] - 14s 1s/step - loss: 0.5529 - acc: 0.7039 - val_loss: 0.5898 - val_acc: 0.6690\n",
      "\n",
      "Epoch 00010: val_acc did not improve from 0.71429\n",
      "Epoch 11/100\n",
      "12/12 [==============================] - 13s 1s/step - loss: 0.5615 - acc: 0.7031 - val_loss: 0.6175 - val_acc: 0.6620\n",
      "\n",
      "Epoch 00011: val_acc did not improve from 0.71429\n",
      "Epoch 12/100\n",
      "12/12 [==============================] - 14s 1s/step - loss: 0.5619 - acc: 0.7012 - val_loss: 0.5872 - val_acc: 0.6655\n",
      "\n",
      "Epoch 00012: val_acc did not improve from 0.71429\n",
      "Epoch 13/100\n",
      "12/12 [==============================] - 15s 1s/step - loss: 0.5390 - acc: 0.7357 - val_loss: 0.6459 - val_acc: 0.6906\n",
      "\n",
      "Epoch 00013: val_acc did not improve from 0.71429\n",
      "Epoch 14/100\n",
      "12/12 [==============================] - 14s 1s/step - loss: 0.5306 - acc: 0.7304 - val_loss: 0.6668 - val_acc: 0.6516\n",
      "\n",
      "Epoch 00014: val_acc did not improve from 0.71429\n",
      "Epoch 15/100\n",
      "12/12 [==============================] - 15s 1s/step - loss: 0.5274 - acc: 0.7224 - val_loss: 0.6320 - val_acc: 0.6620\n",
      "\n",
      "Epoch 00015: val_acc did not improve from 0.71429\n",
      "Epoch 16/100\n",
      "12/12 [==============================] - 15s 1s/step - loss: 0.5479 - acc: 0.7318 - val_loss: 0.6334 - val_acc: 0.7387\n",
      "\n",
      "Epoch 00016: val_acc improved from 0.71429 to 0.73868, saving model to ../working/saved_models-improvement-16-0.74.hdf5\n",
      "Epoch 17/100\n",
      "12/12 [==============================] - 13s 1s/step - loss: 0.4896 - acc: 0.7791 - val_loss: 0.6695 - val_acc: 0.6864\n",
      "\n",
      "Epoch 00017: val_acc did not improve from 0.73868\n",
      "Epoch 18/100\n",
      "12/12 [==============================] - 14s 1s/step - loss: 0.5245 - acc: 0.7410 - val_loss: 0.6321 - val_acc: 0.7038\n",
      "\n",
      "Epoch 00018: val_acc did not improve from 0.73868\n",
      "Epoch 19/100\n",
      "12/12 [==============================] - 15s 1s/step - loss: 0.4974 - acc: 0.7578 - val_loss: 0.5869 - val_acc: 0.7094\n",
      "\n",
      "Epoch 00019: val_acc did not improve from 0.73868\n",
      "Epoch 20/100\n",
      "12/12 [==============================] - 18s 1s/step - loss: 0.5348 - acc: 0.7358 - val_loss: 0.5605 - val_acc: 0.7352\n",
      "\n",
      "Epoch 00020: val_acc did not improve from 0.73868\n",
      "Epoch 21/100\n",
      "12/12 [==============================] - 13s 1s/step - loss: 0.4970 - acc: 0.7663 - val_loss: 0.5844 - val_acc: 0.7143\n",
      "\n",
      "Epoch 00021: val_acc did not improve from 0.73868\n",
      "Epoch 22/100\n",
      "12/12 [==============================] - 14s 1s/step - loss: 0.5170 - acc: 0.7552 - val_loss: 0.4891 - val_acc: 0.7003\n",
      "\n",
      "Epoch 00022: val_acc did not improve from 0.73868\n",
      "Epoch 23/100\n",
      "12/12 [==============================] - 13s 1s/step - loss: 0.4931 - acc: 0.7397 - val_loss: 0.4579 - val_acc: 0.6934\n",
      "\n",
      "Epoch 00023: val_acc did not improve from 0.73868\n",
      "Epoch 24/100\n",
      "12/12 [==============================] - 14s 1s/step - loss: 0.5276 - acc: 0.7371 - val_loss: 0.6264 - val_acc: 0.7247\n",
      "\n",
      "Epoch 00024: val_acc did not improve from 0.73868\n",
      "Epoch 25/100\n",
      "12/12 [==============================] - 15s 1s/step - loss: 0.5045 - acc: 0.7636 - val_loss: 0.6717 - val_acc: 0.6938\n",
      "\n",
      "Epoch 00025: val_acc did not improve from 0.73868\n",
      "Epoch 26/100\n",
      "12/12 [==============================] - 17s 1s/step - loss: 0.4852 - acc: 0.7610 - val_loss: 0.5683 - val_acc: 0.7178\n",
      "\n",
      "Epoch 00026: val_acc did not improve from 0.73868\n",
      "Epoch 27/100\n",
      "12/12 [==============================] - 12s 982ms/step - loss: 0.4847 - acc: 0.7756 - val_loss: 0.5247 - val_acc: 0.7317\n",
      "\n",
      "Epoch 00027: val_acc did not improve from 0.73868\n",
      "Epoch 28/100\n",
      "12/12 [==============================] - 15s 1s/step - loss: 0.4950 - acc: 0.7676 - val_loss: 0.4942 - val_acc: 0.7073\n",
      "\n",
      "Epoch 00028: val_acc did not improve from 0.73868\n",
      "Epoch 29/100\n",
      "12/12 [==============================] - 14s 1s/step - loss: 0.4890 - acc: 0.7676 - val_loss: 0.6631 - val_acc: 0.7038\n",
      "\n",
      "Epoch 00029: val_acc did not improve from 0.73868\n",
      "Epoch 30/100\n",
      "12/12 [==============================] - 13s 1s/step - loss: 0.4980 - acc: 0.7463 - val_loss: 0.4085 - val_acc: 0.7317\n",
      "\n",
      "Epoch 00030: val_acc did not improve from 0.73868\n",
      "Epoch 31/100\n",
      "12/12 [==============================] - 15s 1s/step - loss: 0.4894 - acc: 0.7583 - val_loss: 0.5946 - val_acc: 0.6938\n",
      "\n",
      "Epoch 00031: val_acc did not improve from 0.73868\n",
      "Epoch 32/100\n",
      "12/12 [==============================] - 17s 1s/step - loss: 0.4940 - acc: 0.7530 - val_loss: 0.4847 - val_acc: 0.6725\n",
      "\n",
      "Epoch 00032: val_acc did not improve from 0.73868\n",
      "Epoch 33/100\n",
      "12/12 [==============================] - 14s 1s/step - loss: 0.4830 - acc: 0.7682 - val_loss: 0.5975 - val_acc: 0.7073\n",
      "\n",
      "Epoch 00033: val_acc did not improve from 0.73868\n",
      "Epoch 34/100\n",
      "12/12 [==============================] - 13s 1s/step - loss: 0.4597 - acc: 0.7915 - val_loss: 0.5477 - val_acc: 0.6969\n",
      "\n",
      "Epoch 00034: val_acc did not improve from 0.73868\n",
      "Epoch 35/100\n",
      "12/12 [==============================] - 13s 1s/step - loss: 0.4818 - acc: 0.7602 - val_loss: 0.5519 - val_acc: 0.6934\n",
      "\n",
      "Epoch 00035: val_acc did not improve from 0.73868\n",
      "Epoch 36/100\n",
      "12/12 [==============================] - 14s 1s/step - loss: 0.5007 - acc: 0.7617 - val_loss: 0.5430 - val_acc: 0.6899\n",
      "\n",
      "Epoch 00036: val_acc did not improve from 0.73868\n",
      "Epoch 37/100\n",
      "12/12 [==============================] - 15s 1s/step - loss: 0.4878 - acc: 0.7710 - val_loss: 0.6393 - val_acc: 0.6750\n",
      "\n",
      "Epoch 00037: val_acc did not improve from 0.73868\n",
      "Epoch 38/100\n",
      "12/12 [==============================] - 16s 1s/step - loss: 0.4804 - acc: 0.7782 - val_loss: 0.5914 - val_acc: 0.7213\n",
      "\n",
      "Epoch 00038: val_acc did not improve from 0.73868\n",
      "Epoch 39/100\n",
      "12/12 [==============================] - 13s 1s/step - loss: 0.4707 - acc: 0.7852 - val_loss: 0.6171 - val_acc: 0.7247\n",
      "\n",
      "Epoch 00039: val_acc did not improve from 0.73868\n",
      "Epoch 40/100\n",
      "12/12 [==============================] - 12s 1s/step - loss: 0.4771 - acc: 0.7729 - val_loss: 0.6914 - val_acc: 0.6690\n",
      "\n",
      "Epoch 00040: val_acc did not improve from 0.73868\n",
      "Epoch 41/100\n",
      "12/12 [==============================] - 15s 1s/step - loss: 0.4696 - acc: 0.7716 - val_loss: 0.6391 - val_acc: 0.7317\n",
      "\n",
      "Epoch 00041: val_acc did not improve from 0.73868\n",
      "Epoch 42/100\n",
      "12/12 [==============================] - 14s 1s/step - loss: 0.5052 - acc: 0.7500 - val_loss: 0.5572 - val_acc: 0.7038\n",
      "\n",
      "Epoch 00042: val_acc did not improve from 0.73868\n",
      "Epoch 43/100\n",
      "12/12 [==============================] - 15s 1s/step - loss: 0.4466 - acc: 0.7888 - val_loss: 0.4473 - val_acc: 0.7031\n",
      "\n",
      "Epoch 00043: val_acc did not improve from 0.73868\n",
      "Epoch 44/100\n",
      "12/12 [==============================] - 16s 1s/step - loss: 0.4875 - acc: 0.7575 - val_loss: 0.5761 - val_acc: 0.7317\n",
      "\n",
      "Epoch 00044: val_acc did not improve from 0.73868\n",
      "Epoch 45/100\n",
      "12/12 [==============================] - 14s 1s/step - loss: 0.4872 - acc: 0.7610 - val_loss: 0.8005 - val_acc: 0.7247\n",
      "\n",
      "Epoch 00045: val_acc did not improve from 0.73868\n",
      "Epoch 46/100\n",
      "12/12 [==============================] - 13s 1s/step - loss: 0.5013 - acc: 0.7450 - val_loss: 0.5017 - val_acc: 0.7387\n",
      "\n",
      "Epoch 00046: val_acc did not improve from 0.73868\n",
      "Epoch 47/100\n",
      "12/12 [==============================] - 13s 1s/step - loss: 0.4595 - acc: 0.7862 - val_loss: 0.6032 - val_acc: 0.7143\n",
      "\n",
      "Epoch 00047: val_acc did not improve from 0.73868\n",
      "Epoch 48/100\n",
      "12/12 [==============================] - 13s 1s/step - loss: 0.4658 - acc: 0.7799 - val_loss: 0.6686 - val_acc: 0.7422\n",
      "\n",
      "Epoch 00048: val_acc improved from 0.73868 to 0.74216, saving model to ../working/saved_models-improvement-48-0.74.hdf5\n",
      "Epoch 49/100\n",
      "12/12 [==============================] - 14s 1s/step - loss: 0.4638 - acc: 0.7873 - val_loss: 0.6399 - val_acc: 0.7344\n",
      "\n",
      "Epoch 00049: val_acc did not improve from 0.74216\n",
      "Epoch 50/100\n",
      "12/12 [==============================] - 17s 1s/step - loss: 0.4560 - acc: 0.7756 - val_loss: 0.6367 - val_acc: 0.7317\n",
      "\n",
      "Epoch 00050: val_acc did not improve from 0.74216\n",
      "Epoch 51/100\n",
      "12/12 [==============================] - 13s 1s/step - loss: 0.4541 - acc: 0.7826 - val_loss: 0.5453 - val_acc: 0.7178\n",
      "\n",
      "Epoch 00051: val_acc did not improve from 0.74216\n",
      "Epoch 52/100\n",
      "12/12 [==============================] - 13s 1s/step - loss: 0.4636 - acc: 0.7862 - val_loss: 0.6610 - val_acc: 0.7038\n",
      "\n",
      "Epoch 00052: val_acc did not improve from 0.74216\n",
      "Epoch 53/100\n",
      "12/12 [==============================] - 13s 1s/step - loss: 0.4580 - acc: 0.7649 - val_loss: 0.6123 - val_acc: 0.6829\n",
      "\n",
      "Epoch 00053: val_acc did not improve from 0.74216\n",
      "Epoch 54/100\n",
      "12/12 [==============================] - 14s 1s/step - loss: 0.4894 - acc: 0.7530 - val_loss: 0.6847 - val_acc: 0.6829\n",
      "\n",
      "Epoch 00054: val_acc did not improve from 0.74216\n",
      "Epoch 55/100\n",
      "12/12 [==============================] - 14s 1s/step - loss: 0.4774 - acc: 0.7703 - val_loss: 0.4332 - val_acc: 0.7063\n",
      "\n",
      "Epoch 00055: val_acc did not improve from 0.74216\n",
      "Epoch 56/100\n",
      "12/12 [==============================] - 16s 1s/step - loss: 0.4701 - acc: 0.7809 - val_loss: 0.6618 - val_acc: 0.7143\n",
      "\n",
      "Epoch 00056: val_acc did not improve from 0.74216\n",
      "Epoch 57/100\n",
      "12/12 [==============================] - 14s 1s/step - loss: 0.4398 - acc: 0.7812 - val_loss: 0.5665 - val_acc: 0.7143\n",
      "\n",
      "Epoch 00057: val_acc did not improve from 0.74216\n",
      "Epoch 58/100\n",
      "12/12 [==============================] - 13s 1s/step - loss: 0.4554 - acc: 0.7696 - val_loss: 0.6677 - val_acc: 0.7003\n",
      "\n",
      "Epoch 00058: val_acc did not improve from 0.74216\n",
      "Epoch 59/100\n",
      "12/12 [==============================] - 13s 1s/step - loss: 0.4719 - acc: 0.7809 - val_loss: 0.6922 - val_acc: 0.7422\n",
      "\n",
      "Epoch 00059: val_acc did not improve from 0.74216\n",
      "Epoch 60/100\n",
      "12/12 [==============================] - 13s 1s/step - loss: 0.4555 - acc: 0.7689 - val_loss: 0.6399 - val_acc: 0.7038\n",
      "\n",
      "Epoch 00060: val_acc did not improve from 0.74216\n",
      "Epoch 61/100\n",
      "12/12 [==============================] - 14s 1s/step - loss: 0.4902 - acc: 0.7689 - val_loss: 0.7208 - val_acc: 0.6844\n",
      "\n",
      "Epoch 00061: val_acc did not improve from 0.74216\n",
      "Epoch 62/100\n",
      "12/12 [==============================] - 17s 1s/step - loss: 0.4590 - acc: 0.7826 - val_loss: 0.6769 - val_acc: 0.7073\n",
      "\n",
      "Epoch 00062: val_acc did not improve from 0.74216\n",
      "Epoch 63/100\n",
      "12/12 [==============================] - 13s 1s/step - loss: 0.4342 - acc: 0.7915 - val_loss: 0.5292 - val_acc: 0.7352\n",
      "\n",
      "Epoch 00063: val_acc did not improve from 0.74216\n",
      "Epoch 64/100\n",
      "12/12 [==============================] - 13s 1s/step - loss: 0.4657 - acc: 0.7676 - val_loss: 0.6933 - val_acc: 0.6794\n",
      "\n",
      "Epoch 00064: val_acc did not improve from 0.74216\n",
      "Epoch 65/100\n",
      "12/12 [==============================] - 14s 1s/step - loss: 0.4742 - acc: 0.7596 - val_loss: 0.5342 - val_acc: 0.7387\n",
      "\n",
      "Epoch 00065: val_acc did not improve from 0.74216\n",
      "Epoch 66/100\n",
      "12/12 [==============================] - 13s 1s/step - loss: 0.4486 - acc: 0.7782 - val_loss: 0.7466 - val_acc: 0.6690\n",
      "\n",
      "Epoch 00066: val_acc did not improve from 0.74216\n",
      "Epoch 67/100\n",
      "12/12 [==============================] - 16s 1s/step - loss: 0.4669 - acc: 0.7786 - val_loss: 0.5874 - val_acc: 0.7500\n",
      "\n",
      "Epoch 00067: val_acc improved from 0.74216 to 0.75000, saving model to ../working/saved_models-improvement-67-0.75.hdf5\n",
      "Epoch 68/100\n",
      "12/12 [==============================] - 15s 1s/step - loss: 0.4653 - acc: 0.7696 - val_loss: 0.6904 - val_acc: 0.7213\n",
      "\n",
      "Epoch 00068: val_acc did not improve from 0.75000\n",
      "Epoch 69/100\n",
      "12/12 [==============================] - 14s 1s/step - loss: 0.4347 - acc: 0.7995 - val_loss: 0.6244 - val_acc: 0.7143\n",
      "\n",
      "Epoch 00069: val_acc did not improve from 0.75000\n",
      "Epoch 70/100\n",
      "12/12 [==============================] - 12s 1s/step - loss: 0.4287 - acc: 0.7967 - val_loss: 0.6942 - val_acc: 0.7038\n",
      "\n",
      "Epoch 00070: val_acc did not improve from 0.75000\n",
      "Epoch 71/100\n",
      "12/12 [==============================] - 13s 1s/step - loss: 0.4594 - acc: 0.7490 - val_loss: 0.6150 - val_acc: 0.7387\n",
      "\n",
      "Epoch 00071: val_acc did not improve from 0.75000\n",
      "Epoch 72/100\n",
      "12/12 [==============================] - 13s 1s/step - loss: 0.4275 - acc: 0.8060 - val_loss: 0.8450 - val_acc: 0.7038\n",
      "\n",
      "Epoch 00072: val_acc did not improve from 0.75000\n",
      "Epoch 73/100\n",
      "12/12 [==============================] - 15s 1s/step - loss: 0.4888 - acc: 0.7676 - val_loss: 0.6292 - val_acc: 0.6344\n",
      "\n",
      "Epoch 00073: val_acc did not improve from 0.75000\n",
      "Epoch 74/100\n",
      "12/12 [==============================] - 16s 1s/step - loss: 0.5263 - acc: 0.7490 - val_loss: 0.5056 - val_acc: 0.7317\n",
      "\n",
      "Epoch 00074: val_acc did not improve from 0.75000\n",
      "Epoch 75/100\n",
      "12/12 [==============================] - 13s 1s/step - loss: 0.5023 - acc: 0.7450 - val_loss: 0.4914 - val_acc: 0.7073\n",
      "\n",
      "Epoch 00075: val_acc did not improve from 0.75000\n",
      "Epoch 76/100\n",
      "12/12 [==============================] - 14s 1s/step - loss: 0.4469 - acc: 0.7888 - val_loss: 0.7011 - val_acc: 0.7003\n",
      "\n",
      "Epoch 00076: val_acc did not improve from 0.75000\n",
      "Epoch 77/100\n",
      "12/12 [==============================] - 12s 1s/step - loss: 0.4462 - acc: 0.7849 - val_loss: 0.5284 - val_acc: 0.7352\n",
      "\n",
      "Epoch 00077: val_acc did not improve from 0.75000\n",
      "Epoch 78/100\n",
      "12/12 [==============================] - 13s 1s/step - loss: 0.4527 - acc: 0.7888 - val_loss: 0.5356 - val_acc: 0.6899\n",
      "\n",
      "Epoch 00078: val_acc did not improve from 0.75000\n",
      "Epoch 79/100\n",
      "12/12 [==============================] - 14s 1s/step - loss: 0.4587 - acc: 0.7782 - val_loss: 0.6030 - val_acc: 0.7406\n",
      "\n",
      "Epoch 00079: val_acc did not improve from 0.75000\n",
      "Epoch 80/100\n",
      "12/12 [==============================] - 15s 1s/step - loss: 0.4374 - acc: 0.8035 - val_loss: 0.6608 - val_acc: 0.6725\n",
      "\n",
      "Epoch 00080: val_acc did not improve from 0.75000\n",
      "Epoch 81/100\n",
      "12/12 [==============================] - 15s 1s/step - loss: 0.4479 - acc: 0.7969 - val_loss: 0.6894 - val_acc: 0.7003\n",
      "\n",
      "Epoch 00081: val_acc did not improve from 0.75000\n",
      "Epoch 82/100\n",
      "12/12 [==============================] - 13s 1s/step - loss: 0.4622 - acc: 0.7809 - val_loss: 0.5664 - val_acc: 0.7213\n",
      "\n",
      "Epoch 00082: val_acc did not improve from 0.75000\n",
      "Epoch 83/100\n",
      "12/12 [==============================] - 12s 1s/step - loss: 0.4821 - acc: 0.7507 - val_loss: 0.6001 - val_acc: 0.7108\n",
      "\n",
      "Epoch 00083: val_acc did not improve from 0.75000\n",
      "Epoch 84/100\n",
      "12/12 [==============================] - 13s 1s/step - loss: 0.5120 - acc: 0.7384 - val_loss: 0.5721 - val_acc: 0.6899\n",
      "\n",
      "Epoch 00084: val_acc did not improve from 0.75000\n",
      "Epoch 85/100\n",
      "12/12 [==============================] - 15s 1s/step - loss: 0.4875 - acc: 0.7552 - val_loss: 0.6138 - val_acc: 0.6656\n",
      "\n",
      "Epoch 00085: val_acc did not improve from 0.75000\n",
      "Epoch 86/100\n",
      "12/12 [==============================] - 16s 1s/step - loss: 0.4947 - acc: 0.7304 - val_loss: 0.5338 - val_acc: 0.6969\n",
      "\n",
      "Epoch 00086: val_acc did not improve from 0.75000\n",
      "Epoch 87/100\n",
      "12/12 [==============================] - 12s 1s/step - loss: 0.4943 - acc: 0.7570 - val_loss: 0.5488 - val_acc: 0.7247\n",
      "\n",
      "Epoch 00087: val_acc did not improve from 0.75000\n",
      "Epoch 88/100\n",
      "12/12 [==============================] - 13s 1s/step - loss: 0.4391 - acc: 0.7968 - val_loss: 0.6849 - val_acc: 0.7108\n",
      "\n",
      "Epoch 00088: val_acc did not improve from 0.75000\n",
      "Epoch 89/100\n",
      "12/12 [==============================] - 14s 1s/step - loss: 0.4724 - acc: 0.7623 - val_loss: 0.6194 - val_acc: 0.7247\n",
      "\n",
      "Epoch 00089: val_acc did not improve from 0.75000\n",
      "Epoch 90/100\n",
      "12/12 [==============================] - 13s 1s/step - loss: 0.4457 - acc: 0.7703 - val_loss: 0.4922 - val_acc: 0.7213\n",
      "\n",
      "Epoch 00090: val_acc did not improve from 0.75000\n",
      "Epoch 91/100\n",
      "12/12 [==============================] - 14s 1s/step - loss: 0.4542 - acc: 0.7942 - val_loss: 0.5685 - val_acc: 0.7000\n",
      "\n",
      "Epoch 00091: val_acc did not improve from 0.75000\n",
      "Epoch 92/100\n",
      "12/12 [==============================] - 13s 1s/step - loss: 0.4323 - acc: 0.7915 - val_loss: 0.6339 - val_acc: 0.7317\n",
      "\n",
      "Epoch 00092: val_acc did not improve from 0.75000\n",
      "Epoch 93/100\n",
      "12/12 [==============================] - 14s 1s/step - loss: 0.4444 - acc: 0.7915 - val_loss: 0.7522 - val_acc: 0.7073\n",
      "\n",
      "Epoch 00093: val_acc did not improve from 0.75000\n",
      "Epoch 94/100\n",
      "12/12 [==============================] - 14s 1s/step - loss: 0.4538 - acc: 0.7782 - val_loss: 0.8395 - val_acc: 0.7178\n",
      "\n",
      "Epoch 00094: val_acc did not improve from 0.75000\n",
      "Epoch 95/100\n",
      "12/12 [==============================] - 13s 1s/step - loss: 0.4645 - acc: 0.7729 - val_loss: 0.5224 - val_acc: 0.7666\n",
      "\n",
      "Epoch 00095: val_acc improved from 0.75000 to 0.76655, saving model to ../working/saved_models-improvement-95-0.77.hdf5\n",
      "Epoch 96/100\n",
      "12/12 [==============================] - 12s 1s/step - loss: 0.4630 - acc: 0.7570 - val_loss: 0.5236 - val_acc: 0.7073\n",
      "\n",
      "Epoch 00096: val_acc did not improve from 0.76655\n",
      "Epoch 97/100\n",
      "12/12 [==============================] - 15s 1s/step - loss: 0.4181 - acc: 0.8060 - val_loss: 0.5746 - val_acc: 0.7344\n",
      "\n",
      "Epoch 00097: val_acc did not improve from 0.76655\n",
      "Epoch 98/100\n",
      "12/12 [==============================] - 16s 1s/step - loss: 0.4058 - acc: 0.8076 - val_loss: 0.5378 - val_acc: 0.7038\n",
      "\n",
      "Epoch 00098: val_acc did not improve from 0.76655\n",
      "Epoch 99/100\n",
      "12/12 [==============================] - 13s 1s/step - loss: 0.4339 - acc: 0.7956 - val_loss: 0.5918 - val_acc: 0.7631\n",
      "\n",
      "Epoch 00099: val_acc did not improve from 0.76655\n",
      "Epoch 100/100\n",
      "12/12 [==============================] - 13s 1s/step - loss: 0.4279 - acc: 0.7849 - val_loss: 0.6976 - val_acc: 0.6725\n",
      "\n",
      "Epoch 00100: val_acc did not improve from 0.76655\n"
     ]
    }
   ],
   "source": [
    "model = Sequential()\n",
    "model.add(VGG19(include_top=False, weights='imagenet', input_shape= inputShape))\n",
    "model.add(Flatten())\n",
    "model.add(Dense(32))\n",
    "model.add(LeakyReLU(0.001))\n",
    "model.add(Dense(16))\n",
    "model.add(LeakyReLU(0.001))\n",
    "model.add(Dense(1, activation='sigmoid'))\n",
    "model.layers[0].trainable = False\n",
    "\n",
    "model.compile(loss=keras.losses.binary_crossentropy, optimizer='adam', metrics=['acc'])\n",
    "\n",
    "History = model.fit_generator(train_generator,\n",
    "    steps_per_epoch = len(X_train) // BATCH_SIZE,\n",
    "    epochs = EPOCHS, \n",
    "    validation_data = val_generator,\n",
    "    validation_steps = len(X_val) // BATCH_SIZE,\n",
    "    callbacks = callbacks_list\n",
    ")\n",
    "\n",
    "\n",
    "model.save('melanoma-classification-model.h5')"
   ]
  },
  {
   "cell_type": "code",
   "execution_count": 26,
   "metadata": {},
   "outputs": [],
   "source": [
    "# model.save('melanoma-classification-model.h5')"
   ]
  },
  {
   "cell_type": "markdown",
   "execution_count": null,
   "metadata": {},
   "source": [
    "## Ploting the results of the training:"
   ]
  },
  {
   "cell_type": "code",
   "execution_count": 27,
   "metadata": {},
   "outputs": [],
   "source": [
    "def hist(History):\n",
    "    fig, ax = plt.subplots(1, 2, figsize=(20, 5))\n",
    "\n",
    "    ax[0].plot(History.history['loss'])\n",
    "    ax[0].plot(History.history['val_loss'])\n",
    "    ax[0].legend(['Training loss', 'Validation Loss'],fontsize=18)\n",
    "    ax[0].set_xlabel('Epochs ',fontsize=16)\n",
    "    ax[0].set_ylabel('Loss',fontsize=16)\n",
    "    ax[0].set_title('Training loss x Validation Loss',fontsize=16)\n",
    "\n",
    "\n",
    "    ax[1].plot(History.history['acc'])\n",
    "    ax[1].plot(History.history['val_acc'])\n",
    "    ax[1].legend(['Training Accuracy', 'Validation Accuracy'],fontsize=18)\n",
    "    ax[1].set_xlabel('Epochs ',fontsize=16)\n",
    "    ax[1].set_ylabel('Accuracy',fontsize=16)\n",
    "    ax[1].set_title('Training Accuracy x Validation Accuracy',fontsize=16)"
   ]
  },
  {
   "cell_type": "code",
   "execution_count": 28,
   "metadata": {},
   "outputs": [],
   "source": [
    "def plot_any(arr, title = ''):\n",
    "    plt.figure(figsize = (15, 25))\n",
    "    for i in range(len(arr)):\n",
    "        plt.subplot(1,len(arr),i + 1)\n",
    "        plt.title(title)\n",
    "        plt.imshow(arr[i], cmap = 'gray');"
   ]
  },
  {
   "cell_type": "code",
   "execution_count": 29,
   "metadata": {},
   "outputs": [
    {
     "name": "stdout",
     "output_type": "stream",
     "text": [
      "351/351 [==============================] - 2s 5ms/step\n",
      "Accuracy...: 0.65%\n",
      "loss.......: 7.71\n"
     ]
    }
   ],
   "source": [
    "loss, accu = model.evaluate(X_val, Y_val)\n",
    "print(\"%s: %.2f%%\" % ('Accuracy...', accu))\n",
    "print(\"%s: %.2f\" % ('loss.......', loss))"
   ]
  },
  {
   "cell_type": "code",
   "execution_count": 30,
   "metadata": {},
   "outputs": [
    {
     "data": {
      "image/png": "[encoded data removed]",
      "text/plain": [
       "<Figure size 1440x360 with 2 Axes>"
      ]
     },
     "metadata": {
      "needs_background": "light"
     },
     "output_type": "display_data"
    }
   ],
   "source": [
    "hist(History)"
   ]
  },
  {
   "cell_type": "markdown",
   "execution_count": null,
   "metadata": {},
   "source": [
    "## Making Submission:"
   ]
  },
  {
   "cell_type": "code",
   "execution_count": 31,
   "metadata": {},
   "outputs": [],
   "source": [
    "from keras.models import load_model\n",
    "previous_model = load_model('../working/melanoma-classification-model.h5')"
   ]
  },
  {
   "cell_type": "code",
   "execution_count": 32,
   "metadata": {},
   "outputs": [],
   "source": [
    "testimg_dir = test['image_name'].values\n",
    "testimg_dir = list(testimg_dir)\n",
    "# testimg_dir"
   ]
  },
  {
   "cell_type": "code",
   "execution_count": 33,
   "metadata": {},
   "outputs": [
    {
     "data": {
      "text/html": [
       "<div>\n",
       "<style scoped>\n",
       "    .dataframe tbody tr th:only-of-type {\n",
       "        vertical-align: middle;\n",
       "    }\n",
       "\n",
       "    .dataframe tbody tr th {\n",
       "        vertical-align: top;\n",
       "    }\n",
       "\n",
       "    .dataframe thead th {\n",
       "        text-align: right;\n",
       "    }\n",
       "</style>\n",
       "<table border=\"1\" class=\"dataframe\">\n",
       "  <thead>\n",
       "    <tr style=\"text-align: right;\">\n",
       "      <th></th>\n",
       "      <th>image_name</th>\n",
       "      <th>target</th>\n",
       "    </tr>\n",
       "  </thead>\n",
       "  <tbody>\n",
       "    <tr>\n",
       "      <th>0</th>\n",
       "      <td>ISIC_0052060</td>\n",
       "      <td>0</td>\n",
       "    </tr>\n",
       "    <tr>\n",
       "      <th>1</th>\n",
       "      <td>ISIC_0052349</td>\n",
       "      <td>0</td>\n",
       "    </tr>\n",
       "    <tr>\n",
       "      <th>2</th>\n",
       "      <td>ISIC_0058510</td>\n",
       "      <td>0</td>\n",
       "    </tr>\n",
       "    <tr>\n",
       "      <th>3</th>\n",
       "      <td>ISIC_0073313</td>\n",
       "      <td>0</td>\n",
       "    </tr>\n",
       "    <tr>\n",
       "      <th>4</th>\n",
       "      <td>ISIC_0073502</td>\n",
       "      <td>0</td>\n",
       "    </tr>\n",
       "  </tbody>\n",
       "</table>\n",
       "</div>"
      ],
      "text/plain": [
       "     image_name  target\n",
       "0  ISIC_0052060       0\n",
       "1  ISIC_0052349       0\n",
       "2  ISIC_0058510       0\n",
       "3  ISIC_0073313       0\n",
       "4  ISIC_0073502       0"
      ]
     },
     "execution_count": 33,
     "metadata": {},
     "output_type": "execute_result"
    }
   ],
   "source": [
    "submission=pd.read_csv('/kaggle/input/siim-isic-melanoma-classification/sample_submission.csv')\n",
    "submission.head()"
   ]
  },
  {
   "cell_type": "code",
   "execution_count": 34,
   "metadata": {},
   "outputs": [
    {
     "name": "stderr",
     "output_type": "stream",
     "text": [
      "100%|██████████| 10982/10982 [28:26<00:00,  6.44it/s]\n"
     ]
    }
   ],
   "source": [
    "DIR1 = '../input/siim-isic-melanoma-classification/jpeg/test'\n",
    "target=[]\n",
    "for i in tqdm(testimg_dir):\n",
    "    img=cv2.imread(os.path.join(DIR1,i)+jpeg)\n",
    "    img = cv2.resize(img, (224,224))\n",
    "    img = cv2.cvtColor(img, cv2.COLOR_BGR2RGB)\n",
    "    img = img.astype(np.float32)/255.\n",
    "    img=np.reshape(img,(1,224,224,3))\n",
    "    prediction=previous_model.predict(img)\n",
    "    target.append(prediction[0][0])\n",
    "\n",
    "submission['target']=target"
   ]
  },
  {
   "cell_type": "code",
   "execution_count": 35,
   "metadata": {},
   "outputs": [
    {
     "data": {
      "text/html": [
       "<div>\n",
       "<style scoped>\n",
       "    .dataframe tbody tr th:only-of-type {\n",
       "        vertical-align: middle;\n",
       "    }\n",
       "\n",
       "    .dataframe tbody tr th {\n",
       "        vertical-align: top;\n",
       "    }\n",
       "\n",
       "    .dataframe thead th {\n",
       "        text-align: right;\n",
       "    }\n",
       "</style>\n",
       "<table border=\"1\" class=\"dataframe\">\n",
       "  <thead>\n",
       "    <tr style=\"text-align: right;\">\n",
       "      <th></th>\n",
       "      <th>image_name</th>\n",
       "      <th>target</th>\n",
       "    </tr>\n",
       "  </thead>\n",
       "  <tbody>\n",
       "    <tr>\n",
       "      <th>0</th>\n",
       "      <td>ISIC_0052060</td>\n",
       "      <td>0.015126</td>\n",
       "    </tr>\n",
       "    <tr>\n",
       "      <th>1</th>\n",
       "      <td>ISIC_0052349</td>\n",
       "      <td>0.012018</td>\n",
       "    </tr>\n",
       "    <tr>\n",
       "      <th>2</th>\n",
       "      <td>ISIC_0058510</td>\n",
       "      <td>0.017625</td>\n",
       "    </tr>\n",
       "    <tr>\n",
       "      <th>3</th>\n",
       "      <td>ISIC_0073313</td>\n",
       "      <td>0.016581</td>\n",
       "    </tr>\n",
       "    <tr>\n",
       "      <th>4</th>\n",
       "      <td>ISIC_0073502</td>\n",
       "      <td>0.764647</td>\n",
       "    </tr>\n",
       "  </tbody>\n",
       "</table>\n",
       "</div>"
      ],
      "text/plain": [
       "     image_name    target\n",
       "0  ISIC_0052060  0.015126\n",
       "1  ISIC_0052349  0.012018\n",
       "2  ISIC_0058510  0.017625\n",
       "3  ISIC_0073313  0.016581\n",
       "4  ISIC_0073502  0.764647"
      ]
     },
     "execution_count": 35,
     "metadata": {},
     "output_type": "execute_result"
    }
   ],
   "source": [
    "submission.to_csv('submission.csv', index=False)\n",
    "submission.head()"
   ]
  },
  {
   "cell_type": "markdown",
   "execution_count": null,
   "metadata": {},
   "source": [
    "As you can see, in this note book I have taken 584 images from each class(because the both the classes are highly imbalanced), then applied image augmentation on the fly. If we do the image augmentation without doing that image will increase for sure, but it will not resolve the problem of imbalance class."
   ]
  },
  {
   "cell_type": "code",
   "execution_count": null,
   "metadata": {},
   "outputs": [],
   "source": []
  },
  {
   "cell_type": "code",
   "execution_count": null,
   "metadata": {},
   "outputs": [],
   "source": []
  },
  {
   "cell_type": "code",
   "execution_count": null,
   "metadata": {},
   "outputs": [],
   "source": []
  },
  {
   "cell_type": "code",
   "execution_count": null,
   "metadata": {},
   "outputs": [],
   "source": []
  },
  {
   "cell_type": "code",
   "execution_count": 36,
   "metadata": {},
   "outputs": [],
   "source": [
    "# !pip install Keras"
   ]
  },
  {
   "cell_type": "code",
   "execution_count": 37,
   "metadata": {},
   "outputs": [],
   "source": [
    "# from keras.layers import Input,Dense,Flatten\n",
    "# from keras.models import Model\n",
    "# from keras.applications.vgg16 import VGG16\n",
    "# from keras.applications.vgg16 import preprocess_input\n",
    "# from keras.preprocessing import image\n",
    "# from keras.preprocessing.image import ImageDataGenerator\n",
    "# from keras.models import Sequential\n",
    "# from glob import glob"
   ]
  },
  {
   "cell_type": "code",
   "execution_count": null,
   "metadata": {},
   "outputs": [],
   "source": []
  },
  {
   "cell_type": "code",
   "execution_count": 38,
   "metadata": {},
   "outputs": [],
   "source": [
    "# vgg = VGG16(input_shape = inputShape,weights = 'imagenet',include_top = False)"
   ]
  },
  {
   "cell_type": "code",
   "execution_count": 39,
   "metadata": {},
   "outputs": [],
   "source": [
    "# base_model = tf.keras.applications.MobileNetV2(input_shape=IMG_SHAPE,\n",
    "#                                                include_top=False,\n",
    "#                                                weights='imagenet')"
   ]
  },
  {
   "cell_type": "code",
   "execution_count": 40,
   "metadata": {},
   "outputs": [],
   "source": [
    "# from skimage.io import imread\n",
    "# from skimage.color import rgb2gray\n",
    "# from skimage.transform import resize\n",
    "\n",
    "# train_imgs = []\n",
    "# train_labels = []\n",
    "# test_imgs  = []\n",
    "# test_labels = []\n",
    "\n",
    "# x, y, z = 224, 224, 3\n",
    "\n",
    "# #train\n",
    "\n",
    "# for i in malignant_rand:\n",
    "#     img_resize = imread(os.path.join(DIR,i))\n",
    "#     img_resize = resize(img_resize, (x, y, z))\n",
    "\n",
    "#     train_imgs.append(img_resize)\n",
    "# #     train_labels.append(klass)\n",
    "        \n",
    "# #test\n",
    "# # for klass, folder in enumerate(tqdm(test_path)):\n",
    "# #     for img in glob(folder + '/*'):\n",
    "        \n",
    "# #         img_resize = imread(img)\n",
    "# #         img_resize = resize(img_resize, (x, y, z))\n",
    "\n",
    "# #         test_imgs.append(img_resize)\n",
    "# #         test_labels.append(klass)"
   ]
  },
  {
   "cell_type": "code",
   "execution_count": 41,
   "metadata": {},
   "outputs": [],
   "source": [
    "# train_imgs[0].shape"
   ]
  },
  {
   "cell_type": "code",
   "execution_count": 42,
   "metadata": {},
   "outputs": [],
   "source": [
    "# train_imgs = np.asarray(train_imgs)"
   ]
  },
  {
   "cell_type": "code",
   "execution_count": 43,
   "metadata": {},
   "outputs": [],
   "source": [
    "# train_imgs.shape"
   ]
  },
  {
   "cell_type": "code",
   "execution_count": 44,
   "metadata": {},
   "outputs": [],
   "source": [
    "#I can take two list of benign_rand and malignent_rand and concat them then do the for loop for reading the images and store into a new list\n",
    "#then convert that list into a nparray\n",
    "# then follow 'https://www.kaggle.com/xwalker/simple-cnn-vgg19-keras'\n",
    "# NUM_CLASSES = 1\n",
    "# EPOCHS = 15\n",
    "# BATCH_SIZE = 64\n",
    "# inputShape = (x, y, z)\n",
    "# X_train, X_test, y_train, y_test = train_test_split(\n",
    "#     train_imgs, \n",
    "#     train_labels,\n",
    "#     test_size = 0.3, \n",
    "# )\n",
    "# train_datagen = ImageDataGenerator( rescale = 1./255,\n",
    "#                                     rotation_range=90,\n",
    "#                                     width_shift_range=0.15,\n",
    "#                                     height_shift_range=0.15,\n",
    "#                                     horizontal_flip = True,\n",
    "#                                     vertical_flip = True,\n",
    "#                                     zoom_range=(0.9,1),\n",
    "#                                     fill_mode= 'nearest',\n",
    "#                                     brightness_range=(0.8, 1.2),\n",
    "#                                   )\n",
    "\n",
    "# train_generator = train_datagen.flow(X_train, y_train, batch_size = BATCH_SIZE)\n",
    "# val_generator = train_datagen.flow(X_test, y_test, batch_size = BATCH_SIZE, shuffle = True)"
   ]
  },
  {
   "cell_type": "code",
   "execution_count": 45,
   "metadata": {},
   "outputs": [],
   "source": [
    "# concated_be_mal = benign_rand + malignant_rand\n",
    "# concated_be_mal_1 = [np.random.choice(concated_be_mal)]\n"
   ]
  },
  {
   "cell_type": "code",
   "execution_count": 46,
   "metadata": {},
   "outputs": [],
   "source": [
    "# plt.imshow(benign_images[9])"
   ]
  },
  {
   "cell_type": "code",
   "execution_count": null,
   "metadata": {},
   "outputs": [],
   "source": []
  },
  {
   "cell_type": "code",
   "execution_count": 47,
   "metadata": {},
   "outputs": [],
   "source": [
    "# for i in benign_images:\n",
    "#     benign_images_1 = np.asarray(i)\n",
    "    "
   ]
  },
  {
   "cell_type": "code",
   "execution_count": 48,
   "metadata": {},
   "outputs": [],
   "source": [
    "# plt.imshow(benign_images_1[9])"
   ]
  },
  {
   "cell_type": "code",
   "execution_count": 49,
   "metadata": {},
   "outputs": [],
   "source": [
    "# benign_images1[0]"
   ]
  },
  {
   "cell_type": "code",
   "execution_count": null,
   "metadata": {},
   "outputs": [],
   "source": []
  },
  {
   "cell_type": "code",
   "execution_count": 50,
   "metadata": {},
   "outputs": [],
   "source": [
    "# from keras.preprocessing.image import image to array"
   ]
  },
  {
   "cell_type": "code",
   "execution_count": 51,
   "metadata": {},
   "outputs": [],
   "source": [
    "# from tqdm import tqdm\n",
    "\n",
    "# DIR = '../input/siim-isic-melanoma-classification/jpeg/train'\n",
    "# jpeg = '.jpg'\n",
    "# labels = []\n",
    "# images = []\n",
    "\n",
    "\n",
    "# directory = []\n",
    "# for i in train['image_name']:\n",
    "#     directory.append(os.path.join(DIR,i)+jpeg)\n",
    "\n",
    "# for i in range(train.shape[0]):\n",
    "#     labels.append(train['target'])\n",
    "    \n",
    "# for i in tqdm(range(0,train.shape[0],32)):\n",
    "#     imag = plt.imread(directory[i])\n",
    "#     imag = imag/255.0\n",
    "#     imag = cv2.resize(imag,(256,256))\n",
    "#     images.append(imag)"
   ]
  },
  {
   "cell_type": "code",
   "execution_count": 52,
   "metadata": {},
   "outputs": [],
   "source": [
    "# img_data = np.reshape(images,(images.shape[0],img_size,img_size,3))\n",
    "# label_data = np.array(labels)"
   ]
  },
  {
   "cell_type": "code",
   "execution_count": 53,
   "metadata": {},
   "outputs": [],
   "source": [
    "# plt.imshow(images[64])"
   ]
  },
  {
   "cell_type": "code",
   "execution_count": 54,
   "metadata": {},
   "outputs": [],
   "source": [
    "# 1036*32\n"
   ]
  },
  {
   "cell_type": "code",
   "execution_count": null,
   "metadata": {},
   "outputs": [],
   "source": []
  },
  {
   "cell_type": "code",
   "execution_count": null,
   "metadata": {},
   "outputs": [],
   "source": []
  },
  {
   "cell_type": "code",
   "execution_count": null,
   "metadata": {},
   "outputs": [],
   "source": []
  },
  {
   "cell_type": "code",
   "execution_count": null,
   "metadata": {},
   "outputs": [],
   "source": []
  },
  {
   "cell_type": "code",
   "execution_count": 55,
   "metadata": {},
   "outputs": [],
   "source": [
    "# directory[9]"
   ]
  },
  {
   "cell_type": "code",
   "execution_count": 56,
   "metadata": {},
   "outputs": [],
   "source": [
    "# im = cv2.imread(directory[9])\n",
    "# im = cv2.resize(im,(256,256))\n",
    "# im = cv2.cvtColor(im, cv2.COLOR_BGR2RGB)\n",
    "# plt.imshow(im)\n",
    "# print(im.shape)"
   ]
  },
  {
   "cell_type": "code",
   "execution_count": 57,
   "metadata": {},
   "outputs": [],
   "source": [
    "# import gc\n",
    "# gc.collect()"
   ]
  },
  {
   "cell_type": "code",
   "execution_count": 58,
   "metadata": {},
   "outputs": [],
   "source": [
    "# class BalancedDataGenerator(Sequence):\n",
    "#     \"\"\"ImageDataGenerator + RandomOversampling\"\"\"\n",
    "#     def __init__(self, x, y, datagen, batch_size=32):\n",
    "#         self.datagen = datagen\n",
    "#         self.batch_size = batch_size\n",
    "#         self._shape = x.shape        \n",
    "#         datagen.fit(x)\n",
    "#         self.gen, self.steps_per_epoch = balanced_batch_generator(x.reshape(x.shape[0], -1), y, sampler=RandomOverSampler(), batch_size=self.batch_size, keep_sparse=True)\n",
    "\n",
    "#     def __len__(self):\n",
    "#         return self._shape[0] // self.batch_size\n",
    "\n",
    "#     def __getitem__(self, idx):\n",
    "#         x_batch, y_batch = self.gen.__next__()\n",
    "#         x_batch = x_batch.reshape(-1, *self._shape[1:])\n",
    "#         return self.datagen.flow(x_batch, y_batch, batch_size=self.batch_size).next()"
   ]
  },
  {
   "cell_type": "code",
   "execution_count": 59,
   "metadata": {},
   "outputs": [],
   "source": [
    "# from keras.preprocessing.Image import ImageDataGenerator\n",
    "# datagen = ImageDataGenerator() # define your data augmentation\n",
    "# bgen = BalancedDataGenerator(x, y, datagen, batch_size=32)\n",
    "# steps_per_epoch = balanced_gen.steps_per_epoch"
   ]
  },
  {
   "cell_type": "code",
   "execution_count": 60,
   "metadata": {},
   "outputs": [],
   "source": [
    "# import gc\n",
    "# gc.collect()"
   ]
  }
 ],
 "metadata": {
  "kernelspec": {
   "display_name": "Python 3",
   "language": "python",
   "name": "python3"
  },
  "language_info": {
   "codemirror_mode": {
    "name": "ipython",
    "version": 3
   },
   "file_extension": ".py",
   "mimetype": "text/x-python",
   "name": "python",
   "nbconvert_exporter": "python",
   "pygments_lexer": "ipython3",
   "version": "3.7.6"
  }
 },
 "nbformat": 4,
 "nbformat_minor": 4
}
